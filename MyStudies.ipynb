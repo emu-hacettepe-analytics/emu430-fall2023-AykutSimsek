{
  "cells": [
    {
      "cell_type": "raw",
      "metadata": {},
      "source": [
        "---\n",
        "title: \"WorkMyself\"\n",
        "editor_options: \n",
        "  chunk_output_type: inline\n",
        "---"
      ],
      "id": "364c88cd"
    },
    {
      "cell_type": "markdown",
      "metadata": {},
      "source": [
        "# Error Types\n",
        "\n",
        "## 1 - Syntax\n",
        "\n",
        "Python, basit ve okunaklD1 bir sC6zdizimine sahip bir programlama dilidir. Python'da temel sC6zdizimi aE\u001faD\u001fD1daki gibi C6zetlenebilir:\n",
        "\n",
        "DeD\u001fiE\u001fkenler:\n"
      ],
      "id": "c56be899"
    },
    {
      "cell_type": "code",
      "metadata": {},
      "source": [
        "x = 5  # x adlD1 bir deD\u001fiE\u001fkene 5 deD\u001ferini atama"
      ],
      "id": "4cc023d8",
      "execution_count": null,
      "outputs": []
    },
    {
      "cell_type": "markdown",
      "metadata": {},
      "source": [
        "D0fadeler:\n"
      ],
      "id": "8a53d3f0"
    },
    {
      "cell_type": "code",
      "metadata": {},
      "source": [
        "y = x + 3  # x deD\u001fiE\u001fkeni ile 3'C< toplama ve sonucu y deD\u001fiE\u001fkenine atama"
      ],
      "id": "eadde5bd",
      "execution_count": null,
      "outputs": []
    },
    {
      "cell_type": "markdown",
      "metadata": {},
      "source": [
        "Yorumlar:\n"
      ],
      "id": "7c8741c8"
    },
    {
      "cell_type": "code",
      "metadata": {},
      "source": [
        "# Bu bir yorumdur"
      ],
      "id": "977c82b1",
      "execution_count": null,
      "outputs": []
    },
    {
      "cell_type": "markdown",
      "metadata": {},
      "source": [
        "Strings:\n"
      ],
      "id": "314eb55a"
    },
    {
      "cell_type": "code",
      "metadata": {},
      "source": [
        "ad = \"Ahmet\"  # C\u0007ift tD1rnak kullanarak bir dize oluE\u001fturma\n",
        "soyad = 'YD1lmaz'  # Tek tD1rnak kullanarak bir dize oluE\u001fturma"
      ],
      "id": "3d05359b",
      "execution_count": null,
      "outputs": []
    },
    {
      "cell_type": "markdown",
      "metadata": {},
      "source": [
        "KoE\u001fullu D0fadeler:\n"
      ],
      "id": "67de3a85"
    },
    {
      "cell_type": "code",
      "metadata": {},
      "source": [
        "if x > 10:\n",
        "    print(\"x 10'dan bC<yC<k\")\n",
        "else:\n",
        "    print(\"x 10 veya daha kC<C'C<k\")"
      ],
      "id": "d3dc9431",
      "execution_count": null,
      "outputs": []
    },
    {
      "cell_type": "markdown",
      "metadata": {},
      "source": [
        "Fonksiyonlar:\n"
      ],
      "id": "c9da9bd4"
    },
    {
      "cell_type": "code",
      "metadata": {},
      "source": [
        "def toplama(a, b):\n",
        "    return a + b"
      ],
      "id": "7e5b5915",
      "execution_count": null,
      "outputs": []
    },
    {
      "cell_type": "markdown",
      "metadata": {},
      "source": [
        "Listeler:\n"
      ],
      "id": "12b55f36"
    },
    {
      "cell_type": "code",
      "metadata": {},
      "source": [
        "meyveler = [\"elma\", \"armut\", \"muz\"]"
      ],
      "id": "d641f96b",
      "execution_count": null,
      "outputs": []
    },
    {
      "cell_type": "markdown",
      "metadata": {},
      "source": [
        "Bu, Python'D1n temel sC6zdiziminin sadece bir C6zetidir.\n",
        "\n",
        "### Peki ya Syntax Error ?\n",
        "\n",
        "#### 1 - Syntax Error : Indentation Level\n"
      ],
      "id": "42631486"
    },
    {
      "cell_type": "code",
      "metadata": {},
      "source": [
        "def my_function():\n",
        "print(\"Hello, World!\")"
      ],
      "id": "68c001a4",
      "execution_count": null,
      "outputs": []
    },
    {
      "cell_type": "markdown",
      "metadata": {},
      "source": [
        "Bu hata, girinti dC\\<zeylerinin uyumsuz olduD\u001funu gC6sterir. D0kinci satD1rD1n baE\u001flangD1cD1, bir C6ncekine gC6re fazla girintili veya eksik girintilidir.\n",
        "\n",
        "#### 2 - Syntax Error : EOL (End of Line) While Scanning String Literal\n"
      ],
      "id": "bd4c9ef5"
    },
    {
      "cell_type": "code",
      "metadata": {},
      "source": [
        "message = \"This is an unclosed string"
      ],
      "id": "80948b9a",
      "execution_count": null,
      "outputs": []
    },
    {
      "cell_type": "markdown",
      "metadata": {},
      "source": [
        "Bu hata, bir dizeyi dC\\<zgC\\<n E\u001fekilde kapatmadD1D\u001fD1nD1zda meydana gelir.\n",
        "\n",
        "#### 3 - Syntax Error : Invalid Syntax\n"
      ],
      "id": "42aa930a"
    },
    {
      "cell_type": "code",
      "metadata": {},
      "source": [
        "x = 10\n",
        "if x > 5\n",
        "    print(\"x is greater than 5\")"
      ],
      "id": "74bb7a74",
      "execution_count": null,
      "outputs": []
    },
    {
      "cell_type": "markdown",
      "metadata": {},
      "source": [
        "Bu hata, if ifadesinin sonunda iki nokta C\\<st C\\<ste eksik olduD\u001funda veya baE\u001fka bir sC6zdizimi hatasD1 olduD\u001funda meydana gelebilir.\n",
        "\n",
        "#### 4 - Syntax Error : Missing Colon\n"
      ],
      "id": "d04df525"
    },
    {
      "cell_type": "code",
      "metadata": {},
      "source": [
        "if x > 5\n",
        "    print(\"x is greater than 5\")"
      ],
      "id": "0a56a421",
      "execution_count": null,
      "outputs": []
    },
    {
      "cell_type": "markdown",
      "metadata": {},
      "source": [
        "Bu hata, if veya baE\u001fka bir kontrol yapD1sD1nD1n ardD1ndan gelen iki nokta C\\<st C\\<ste (:) eksik olduD\u001funda meydana gelir.\n",
        "\n",
        "#### 5 - Syntax Error : IndentationError : unexcepted indent\n"
      ],
      "id": "f08da61f"
    },
    {
      "cell_type": "code",
      "metadata": {},
      "source": [
        "if x > 5:\n",
        "print(\"x is greater than 5\")"
      ],
      "id": "ab8032c9",
      "execution_count": null,
      "outputs": []
    },
    {
      "cell_type": "markdown",
      "metadata": {},
      "source": [
        "Bu hata, beklenmeyen bir girinti dC\\<zeyi olduD\u001funda veya girinti seviyeleri uyumsuz olduD\u001funda meydana gelir.\n",
        "\n",
        "#### 6 - Syntax Error : Invalid Character in indentifier\n"
      ],
      "id": "7ab91d79"
    },
    {
      "cell_type": "code",
      "metadata": {},
      "source": [
        "my-variable = 42 #!!!!!!!!!!!!!!!!!!!"
      ],
      "id": "2423b27c",
      "execution_count": null,
      "outputs": []
    },
    {
      "cell_type": "markdown",
      "metadata": {},
      "source": [
        "Bu hata, deD\u001fiE\u001fken adD1 iC'inde geC'erli olmayan karakterlerin kullanD1ldD1D\u001fD1nda meydana gelir.\n",
        "\n",
        "#### 7 - Syntax Error : Invalid Operator (GeC'ersiz OperatC6r)\n"
      ],
      "id": "25465703"
    },
    {
      "cell_type": "code",
      "metadata": {},
      "source": [
        "result = 10 @ 5"
      ],
      "id": "dcdfe81d",
      "execution_count": null,
      "outputs": []
    },
    {
      "cell_type": "markdown",
      "metadata": {},
      "source": [
        "#### 8 - Syntax Error : Reserved Keyword as Variable (AyrD1E\u001fmD1E\u001f Anahtar Kelimeyi DeD\u001fiE\u001fken Olarak Kullanma)\n"
      ],
      "id": "29baf490"
    },
    {
      "cell_type": "code",
      "metadata": {},
      "source": [
        "for = 10"
      ],
      "id": "79028826",
      "execution_count": null,
      "outputs": []
    },
    {
      "cell_type": "markdown",
      "metadata": {},
      "source": [
        "## 2 - Runtime Errors\n",
        "\n",
        "#### 1 - **ZeroDivisionError** (SD1fD1ra BC6lme HatasD1):\n"
      ],
      "id": "93b1da04"
    },
    {
      "cell_type": "code",
      "metadata": {},
      "source": [
        "result = 10 / 0"
      ],
      "id": "75ec46f4",
      "execution_count": null,
      "outputs": []
    },
    {
      "cell_type": "markdown",
      "metadata": {},
      "source": [
        "Bu kod C'alD1E\u001ftD1rD1ldD1D\u001fD1nda Python, sD1fD1ra bC6lme hatasD1 verir C'C\\<nkC\\< bir sayD1yD1 sD1fD1ra bC6lmek matematiksel olarak tanD1msD1zdD1r.\n",
        "\n",
        "===\\> E\u001eC6yle dC\\<E\u001fC\\<n, result = 10/0 yazD1nca kD1rmD1zD1 bir hata uyarD1sD1 C'D1kmaz. C\u0007C\\<nkC\\< yazD1m kuralD1 olarak tamamen doD\u001fru. Yani result = 10/1 dese C'alD1E\u001facak. YAND0 SYNTAX ERROR DED\u001eD0L.\n",
        "\n",
        "#### 2 - **NameError** (TanD1msD1z DeD\u001fiE\u001fken HatasD1):\n"
      ],
      "id": "ec31c026"
    },
    {
      "cell_type": "code",
      "metadata": {},
      "source": [
        "print(undefined_variable)\n",
        "print(variable)\n",
        "# But we didnt assignment for variable"
      ],
      "id": "d93c3f9c",
      "execution_count": null,
      "outputs": []
    },
    {
      "cell_type": "code",
      "metadata": {},
      "source": [
        "result = calculate(5, 3)"
      ],
      "id": "686d9dbe",
      "execution_count": null,
      "outputs": []
    },
    {
      "cell_type": "markdown",
      "metadata": {},
      "source": [
        "TanD1mlanmamD1E\u001f bir deD\u001fiE\u001fkeni kullanmaya C'alD1E\u001ftD1D\u001fD1nD1zda bu hata oluE\u001fur.\n",
        "\n",
        "===\\> E\u001eC6yle dC\\<E\u001fC\\<n, calculate fonksiyonu tanD1mlanmD1E\u001f olsa bu kod C\u0007ALIE\u001eACAKTI. Yani YAZIM OLARAK BD0 HATA YOK. YAND0 SYNTAX ERROR DED\u001eD0L.\n",
        "\n",
        "#### 3 - **TypeError** (Veri TC\\<rC\\< HatasD1):\n"
      ],
      "id": "37aa90fa"
    },
    {
      "cell_type": "code",
      "metadata": {},
      "source": [
        "result = \"5\" + 10"
      ],
      "id": "083f3252",
      "execution_count": null,
      "outputs": []
    },
    {
      "cell_type": "markdown",
      "metadata": {},
      "source": [
        "FarklD1 veri tC\\<rlerini doD\u001frudan birleE\u001ftirmeye C'alD1E\u001ftD1D\u001fD1nD1zda Python TypeError verir.\n",
        "\n",
        "#### 4 - **IndexError** (D0ndeks HatasD1):\n"
      ],
      "id": "dc440c4f"
    },
    {
      "cell_type": "code",
      "metadata": {},
      "source": [
        "my_list = [1, 2, 3]\n",
        "print(my_list[5])"
      ],
      "id": "028dc672",
      "execution_count": null,
      "outputs": []
    },
    {
      "cell_type": "markdown",
      "metadata": {},
      "source": [
        "===\\> E\u001eC6yle dC\\<E\u001fC\\<n, listede 5. indexte ELEMAN OLSAYDI kod C\u0007ALIE\u001eACAKTI. Yani yazD1msal olarak bir hata yok. YAND0 SYNTAX ERROR DED\u001eD0L.\n",
        "\n",
        "#### 5 - **FileNotFoundError** (Dosya BulunamadD1 HatasD1):\n"
      ],
      "id": "d1b992c8"
    },
    {
      "cell_type": "code",
      "metadata": {},
      "source": [
        "with open(\"dosya_yok.txt\", \"r\") as file:\n",
        "    content = file.read()"
      ],
      "id": "a8a0451b",
      "execution_count": null,
      "outputs": []
    },
    {
      "cell_type": "markdown",
      "metadata": {},
      "source": [
        "===\\> AynD1 durum...\n",
        "\n",
        "#### 6 - **ValueError** (DeD\u001fer HatasD1):\n"
      ],
      "id": "49b76516"
    },
    {
      "cell_type": "code",
      "metadata": {},
      "source": [
        "number = int(\"abc\")"
      ],
      "id": "249f4021",
      "execution_count": null,
      "outputs": []
    },
    {
      "cell_type": "markdown",
      "metadata": {},
      "source": [
        "#### 7 - **AttributeError** (Nesne NiteliD\u001fi HatasD1):\n"
      ],
      "id": "ac7628d4"
    },
    {
      "cell_type": "code",
      "metadata": {},
      "source": [
        "my_list = [1, 2, 3]\n",
        "my_list.split()"
      ],
      "id": "532d7fd9",
      "execution_count": null,
      "outputs": []
    },
    {
      "cell_type": "markdown",
      "metadata": {},
      "source": [
        "Bir nesnenin belirli bir niteliD\u001fi (attribute) veya yC6ntemi (method) olmadD1D\u001fD1nda bu hata meydana gelir.\n",
        "\n",
        "#### 8 - **RecursionError** (Yineleme HatasD1):\n"
      ],
      "id": "1ce4855f"
    },
    {
      "cell_type": "code",
      "metadata": {},
      "source": [
        "def recursive_function(n):\n",
        "    return recursive_function(n - 1)\n",
        "    # - sonsuza gidiyor.\n",
        "\n",
        "recursive_function(10)"
      ],
      "id": "54a4bab6",
      "execution_count": null,
      "outputs": []
    },
    {
      "cell_type": "markdown",
      "metadata": {},
      "source": [
        "Sonsuz bir E\u001fekilde yinelemeye C'alD1E\u001ftD1D\u001fD1nD1zda RecursionError oluE\u001fur.\n",
        "\n",
        "#### 9 - **KeyboardInterrupt** (Klavyeden D0nterrupt HatasD1):\n",
        "\n",
        "Bu hata, kullanD1cD1 programD1n C'alD1E\u001fmasD1nD1 klavyeden kesmeye C'alD1E\u001ftD1D\u001fD1nda oluE\u001fur (genellikle Ctrl+C tuE\u001f kombinasyonu kullanD1lD1r).\n",
        "\n",
        "#### 10 - **MemoryError** (Bellek HatasD1):\n",
        "\n",
        "Bellek tC\\<kenirse veya programD1nD1zD1n kullanabileceD\u001fi bellek sD1nD1rD1nD1 aE\u001ftD1D\u001fD1nD1zda bu hata oluE\u001fur.\n",
        "\n",
        "## 2 - Sementic Errors (Anlamsal Hatalar)\n",
        "\n",
        "#### 1 - **MantD1ksal Hata**:\n",
        "\n",
        "D0E\u001flem sD1rasD1nda yanlD1E\u001f bir mantD1ksal operatC6r kullanmak, beklenen sonuC'larD1 elde edememenize neden olabilir.\n"
      ],
      "id": "c5280438"
    },
    {
      "cell_type": "code",
      "metadata": {},
      "source": [
        "if x < 5 and x > 10:\n",
        "    print(\"x, 5 ile 10 arasD1nda deD\u001fil\")"
      ],
      "id": "36e72bd3",
      "execution_count": null,
      "outputs": []
    },
    {
      "cell_type": "markdown",
      "metadata": {},
      "source": [
        "Bu kod, **`x`**'in hem 5'ten kC\\<C'C\\<k hem de 10'dan bC\\<yC\\<k olmasD1nD1 kontrol eder, bu yC\\<zden hiC'bir zaman doD\u001fru olmaz.\n",
        "\n",
        "#### 2 - **YanlD1E\u001f DeD\u001fer DC6ndC\\<rme**:\n",
        "\n",
        "Bir fonksiyonun beklenen sonucu dC6ndC\\<rmemesi, semantik bir hatadD1r.\n"
      ],
      "id": "e6bede7c"
    },
    {
      "cell_type": "code",
      "metadata": {},
      "source": [
        "def toplama(a, b):\n",
        "    return a - b\n",
        "\n",
        "sonuc = toplama(5, 3)  # Beklenen sonuC' 5 + 3 = 8, ancak fonksiyon yanlD1E\u001f sonuC' dC6ndC<rC<yor"
      ],
      "id": "5bb9217b",
      "execution_count": null,
      "outputs": []
    },
    {
      "cell_type": "markdown",
      "metadata": {},
      "source": [
        "#### 3 - **DC6ngC\\< MantD1D\u001fD1**:\n",
        "\n",
        "DC6ngC\\<lerin yanlD1E\u001f baE\u001flatD1lmasD1 veya yanlD1E\u001f bir E\u001fekilde C'alD1E\u001ftD1rD1lmasD1 semantik hatalara yol aC'abilir.\n"
      ],
      "id": "965db6d4"
    },
    {
      "cell_type": "code",
      "metadata": {},
      "source": [
        "for i in range(10):\n",
        "    if i < 5:\n",
        "        print(\"Daha bC<yC<k!\")"
      ],
      "id": "b6657cd9",
      "execution_count": null,
      "outputs": []
    },
    {
      "cell_type": "markdown",
      "metadata": {},
      "source": [
        "Bu dC6ngC\\<, **`i`** 5'ten kC\\<C'C\\<k olduD\u001funda hiC'bir E\u001fey yazdD1rmaz, ancak muhtemelen her zaman doD\u001fru sonuC' almak isteniyordur.\n",
        "\n",
        "Semantik hatalar, kodun mantD1D\u001fD1nD1 anlayarak ve beklenen sonuC'larD1 dikkate alarak tespit edilmeli ve giderilmelidir. Genellikle kod incelemesi ve testler kullanD1larak bu tC\\<r hatalar bulunur ve dC\\<zeltilir.\n",
        "\n",
        "Pythonda bu hatalar diD\u001fer hatalar gibi uyarD1 olarak verilmiyor."
      ],
      "id": "33af9219"
    }
  ],
  "metadata": {
    "kernelspec": {
      "name": "python3",
      "language": "python",
      "display_name": "Python 3 (ipykernel)"
    }
  },
  "nbformat": 4,
  "nbformat_minor": 5
}